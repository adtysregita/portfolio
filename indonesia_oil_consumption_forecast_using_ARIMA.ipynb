{
 "cells": [
  {
   "cell_type": "code",
   "execution_count": 1,
   "id": "daa6d688",
   "metadata": {},
   "outputs": [],
   "source": [
    "import warnings\n",
    "import numpy as np\n",
    "import pandas as pd\n",
    "from pandas import read_csv\n",
    "from matplotlib import pyplot as plt\n",
    "from statsmodels.tsa.stattools import adfuller\n",
    "from statsmodels.tsa.arima.model import ARIMA\n",
    "from pandas.plotting import register_matplotlib_converters\n",
    "register_matplotlib_converters()\n",
    "from pmdarima.arima.utils import ndiffs\n",
    "from statsmodels.graphics.tsaplots import plot_acf, plot_pacf\n",
    "import statsmodels.api as sm\n",
    "import pmdarima as pmd\n",
    "import math\n",
    "from sklearn.metrics import mean_squared_error"
   ]
  },
  {
   "cell_type": "code",
   "execution_count": 2,
   "id": "cd73f0de",
   "metadata": {},
   "outputs": [
    {
     "name": "stdout",
     "output_type": "stream",
     "text": [
      "    year           gdp  oil_energy_use\n",
      "0   1960  3.010000e+11          250.00\n",
      "1   1961  3.010000e+11          252.57\n",
      "2   1962  3.010000e+11          259.76\n",
      "3   1963  3.010000e+11          265.47\n",
      "4   1964  3.010000e+11          267.09\n",
      "..   ...           ...             ...\n",
      "56  2016  9.320000e+11          903.97\n",
      "57  2017  1.020000e+12          917.69\n",
      "58  2018  1.040000e+12          936.89\n",
      "59  2019  1.120000e+12          940.04\n",
      "60  2020  1.060000e+12          967.33\n",
      "\n",
      "[61 rows x 3 columns]\n",
      "year                int64\n",
      "gdp               float64\n",
      "oil_energy_use    float64\n",
      "dtype: object\n",
      "\n",
      "Total NaN Data:\n",
      " year              0\n",
      "gdp               0\n",
      "oil_energy_use    0\n",
      "dtype: int64\n"
     ]
    }
   ],
   "source": [
    "# import data\n",
    "df = pd.read_csv(r'D:/Dataset/oil_consumption.csv')\n",
    "\n",
    "print(df)\n",
    "print(df.dtypes)\n",
    "print('\\nTotal NaN Data:\\n', df.isnull().sum())"
   ]
  },
  {
   "cell_type": "code",
   "execution_count": 3,
   "id": "35a5ffed",
   "metadata": {},
   "outputs": [
    {
     "data": {
      "text/html": [
       "<div>\n",
       "<style scoped>\n",
       "    .dataframe tbody tr th:only-of-type {\n",
       "        vertical-align: middle;\n",
       "    }\n",
       "\n",
       "    .dataframe tbody tr th {\n",
       "        vertical-align: top;\n",
       "    }\n",
       "\n",
       "    .dataframe thead th {\n",
       "        text-align: right;\n",
       "    }\n",
       "</style>\n",
       "<table border=\"1\" class=\"dataframe\">\n",
       "  <thead>\n",
       "    <tr style=\"text-align: right;\">\n",
       "      <th></th>\n",
       "      <th>year</th>\n",
       "      <th>gdp</th>\n",
       "      <th>oil_energy_use</th>\n",
       "    </tr>\n",
       "  </thead>\n",
       "  <tbody>\n",
       "    <tr>\n",
       "      <th>year</th>\n",
       "      <td>1.000000</td>\n",
       "      <td>0.721017</td>\n",
       "      <td>0.982418</td>\n",
       "    </tr>\n",
       "    <tr>\n",
       "      <th>gdp</th>\n",
       "      <td>0.721017</td>\n",
       "      <td>1.000000</td>\n",
       "      <td>0.756873</td>\n",
       "    </tr>\n",
       "    <tr>\n",
       "      <th>oil_energy_use</th>\n",
       "      <td>0.982418</td>\n",
       "      <td>0.756873</td>\n",
       "      <td>1.000000</td>\n",
       "    </tr>\n",
       "  </tbody>\n",
       "</table>\n",
       "</div>"
      ],
      "text/plain": [
       "                    year       gdp  oil_energy_use\n",
       "year            1.000000  0.721017        0.982418\n",
       "gdp             0.721017  1.000000        0.756873\n",
       "oil_energy_use  0.982418  0.756873        1.000000"
      ]
     },
     "execution_count": 3,
     "metadata": {},
     "output_type": "execute_result"
    }
   ],
   "source": [
    "# checking the data correlation\n",
    "df.corr()"
   ]
  },
  {
   "cell_type": "code",
   "execution_count": 4,
   "id": "4a9456d1",
   "metadata": {},
   "outputs": [
    {
     "name": "stdout",
     "output_type": "stream",
     "text": [
      "    year  oil_energy_use\n",
      "0   1960          250.00\n",
      "1   1961          252.57\n",
      "2   1962          259.76\n",
      "3   1963          265.47\n",
      "4   1964          267.09\n",
      "..   ...             ...\n",
      "56  2016          903.97\n",
      "57  2017          917.69\n",
      "58  2018          936.89\n",
      "59  2019          940.04\n",
      "60  2020          967.33\n",
      "\n",
      "[61 rows x 2 columns]\n"
     ]
    }
   ],
   "source": [
    "#drop the gdp column since it has the least correlation\n",
    "energy = df.drop('gdp', axis = 1)\n",
    "\n",
    "print(energy)"
   ]
  },
  {
   "cell_type": "code",
   "execution_count": 5,
   "id": "3a366fed",
   "metadata": {},
   "outputs": [
    {
     "name": "stdout",
     "output_type": "stream",
     "text": [
      "(52, 2)\n",
      "(10, 2)\n"
     ]
    }
   ],
   "source": [
    "# split data into training and testing\n",
    "train = energy.loc[:51]\n",
    "test = energy.loc[51:]\n",
    "\n",
    "print(train.shape)\n",
    "print(test.shape)"
   ]
  },
  {
   "cell_type": "code",
   "execution_count": 6,
   "id": "ef3075d5",
   "metadata": {},
   "outputs": [
    {
     "data": {
      "image/png": "[encoded data removed]",
      "text/plain": [
       "<Figure size 1080x576 with 1 Axes>"
      ]
     },
     "metadata": {
      "needs_background": "light"
     },
     "output_type": "display_data"
    }
   ],
   "source": [
    "# plot dataset\n",
    "train_x = train['year']\n",
    "train_y = train['oil_energy_use']\n",
    "test_x = test['year']\n",
    "test_y = test['oil_energy_use']\n",
    "\n",
    "plt.figure(figsize = (15, 8))\n",
    "plt.plot(train_x, train_y, 'green',\n",
    "         test_x, test_y, 'orange')\n",
    "plt.legend(['Train', 'Test'])\n",
    "plt.show()"
   ]
  },
  {
   "cell_type": "code",
   "execution_count": 20,
   "id": "f2217bcd",
   "metadata": {},
   "outputs": [
    {
     "name": "stdout",
     "output_type": "stream",
     "text": [
      "Results of Dickey-Fuller Test:\n",
      "Test Statistic                  0.761593\n",
      "p-value                         0.990990\n",
      "#Lags Used                      0.000000\n",
      "Number of Observations Used    60.000000\n",
      "Critical Value (1%)            -3.544369\n",
      "Critical Value (5%)            -2.911073\n",
      "Critical Value (10%)           -2.593190\n",
      "dtype: float64\n"
     ]
    }
   ],
   "source": [
    "# melihat stationarity data dengan ADF\n",
    "# define function for ADF test\n",
    "def adf_test(timeseries):\n",
    "    #Perform Dickey-Fuller test:\n",
    "    print ('Results of Dickey-Fuller Test:')\n",
    "    dftest = adfuller(timeseries, autolag='AIC')\n",
    "    dfoutput = pd.Series(dftest[0:4], index=['Test Statistic','p-value','#Lags Used','Number of Observations Used'])\n",
    "    for key,value in dftest[4].items():\n",
    "       dfoutput['Critical Value (%s)'%key] = value\n",
    "    print (dfoutput)\n",
    "\n",
    "#apply adf test on the series\n",
    "adf_test(energy['oil_energy_use'])"
   ]
  },
  {
   "cell_type": "code",
   "execution_count": 23,
   "id": "4ea25ee7",
   "metadata": {},
   "outputs": [
    {
     "name": "stdout",
     "output_type": "stream",
     "text": [
      "Results of Dickey-Fuller Test:\n",
      "Test Statistic                 -2.898846\n",
      "p-value                         0.045482\n",
      "#Lags Used                      2.000000\n",
      "Number of Observations Used    56.000000\n",
      "Critical Value (1%)            -3.552928\n",
      "Critical Value (5%)            -2.914731\n",
      "Critical Value (10%)           -2.595137\n",
      "dtype: float64\n"
     ]
    },
    {
     "data": {
      "image/png": "[encoded data removed]",
      "text/plain": [
       "<Figure size 432x288 with 1 Axes>"
      ]
     },
     "metadata": {
      "needs_background": "light"
     },
     "output_type": "display_data"
    }
   ],
   "source": [
    "# shift log transformation\n",
    "energy['oil_log'] = np.log(energy['oil_energy_use'])\n",
    "energy['oil_log_diff'] = energy['oil_log'] - energy['oil_log'].shift(2)\n",
    "energy['oil_log_diff'].dropna().plot()\n",
    "\n",
    "logdif = energy['oil_log_diff']\n",
    "adf_test(logdif.dropna())"
   ]
  },
  {
   "cell_type": "code",
   "execution_count": 9,
   "id": "8294f241",
   "metadata": {},
   "outputs": [
    {
     "data": {
      "image/png": "[encoded data removed]",
      "text/plain": [
       "<Figure size 432x288 with 1 Axes>"
      ]
     },
     "metadata": {
      "needs_background": "light"
     },
     "output_type": "display_data"
    },
    {
     "data": {
      "text/plain": [
       "array([ 1.        ,  0.4593127 , -0.36732877,  0.4149909 , -0.01701872,\n",
       "        0.18291323, -0.28343861, -0.13825179, -0.08013039,  0.36865879,\n",
       "       -0.25882213,  0.23981605, -0.14754765,  0.39400026, -0.57153159,\n",
       "        0.80926099, -5.81352035, -1.13223717])"
      ]
     },
     "execution_count": 9,
     "metadata": {},
     "output_type": "execute_result"
    }
   ],
   "source": [
    "# mencari nilai AR (p) dengan plot PACF\n",
    "plot_pacf(logdif.dropna(), lags = 20, method = 'ywm')\n",
    "plt.show()\n",
    "\n",
    "sm.tsa.pacf(logdif.dropna())"
   ]
  },
  {
   "cell_type": "code",
   "execution_count": 10,
   "id": "b0b2f14d",
   "metadata": {
    "scrolled": true
   },
   "outputs": [
    {
     "data": {
      "image/png": "[encoded data removed]",
      "text/plain": [
       "<Figure size 432x288 with 1 Axes>"
      ]
     },
     "metadata": {
      "needs_background": "light"
     },
     "output_type": "display_data"
    },
    {
     "data": {
      "text/plain": [
       "array([ 1.        ,  0.45152774, -0.07619252,  0.06170461,  0.26218926,\n",
       "        0.22122352, -0.02977221, -0.23873802, -0.15793556,  0.16303228,\n",
       "        0.14450509, -0.12139598, -0.09834513,  0.13996434,  0.18540654,\n",
       "       -0.00731041, -0.17237895, -0.20561477])"
      ]
     },
     "execution_count": 10,
     "metadata": {},
     "output_type": "execute_result"
    }
   ],
   "source": [
    "# mencari nilai MA (q) dengan plot ACF\n",
    "plot_acf(logdif.dropna(), lags = 49)\n",
    "plt.show()\n",
    "\n",
    "sm.tsa.acf(logdif.dropna())"
   ]
  },
  {
   "cell_type": "code",
   "execution_count": 11,
   "id": "cac5b19a",
   "metadata": {},
   "outputs": [],
   "source": [
    "# build the arima estimator\n",
    "def arimamodel(timeseriesarray):\n",
    "    autoarima_model = pmd.auto_arima(timeseriesarray, \n",
    "                              start_p = 1, \n",
    "                              start_q = 0,\n",
    "                              test = \"adf\",\n",
    "                              seasonal = False,\n",
    "                              trace = True)\n",
    "    return autoarima_model"
   ]
  },
  {
   "cell_type": "code",
   "execution_count": 12,
   "id": "9b769e5b",
   "metadata": {},
   "outputs": [
    {
     "name": "stdout",
     "output_type": "stream",
     "text": [
      "Performing stepwise search to minimize aic\n",
      " ARIMA(1,2,0)(0,0,0)[0] intercept   : AIC=473.284, Time=0.07 sec\n",
      " ARIMA(0,2,0)(0,0,0)[0] intercept   : AIC=481.479, Time=0.02 sec\n",
      " ARIMA(0,2,1)(0,0,0)[0] intercept   : AIC=inf, Time=0.19 sec\n",
      " ARIMA(0,2,0)(0,0,0)[0]             : AIC=479.531, Time=0.02 sec\n",
      " ARIMA(2,2,0)(0,0,0)[0] intercept   : AIC=468.106, Time=0.09 sec\n",
      " ARIMA(3,2,0)(0,0,0)[0] intercept   : AIC=459.778, Time=0.15 sec\n",
      " ARIMA(4,2,0)(0,0,0)[0] intercept   : AIC=453.258, Time=0.16 sec\n",
      " ARIMA(5,2,0)(0,0,0)[0] intercept   : AIC=455.059, Time=0.32 sec\n",
      " ARIMA(4,2,1)(0,0,0)[0] intercept   : AIC=455.046, Time=0.38 sec\n",
      " ARIMA(3,2,1)(0,0,0)[0] intercept   : AIC=454.756, Time=0.18 sec\n",
      " ARIMA(5,2,1)(0,0,0)[0] intercept   : AIC=inf, Time=0.58 sec\n",
      " ARIMA(4,2,0)(0,0,0)[0]             : AIC=451.276, Time=0.09 sec\n",
      " ARIMA(3,2,0)(0,0,0)[0]             : AIC=457.782, Time=0.07 sec\n",
      " ARIMA(5,2,0)(0,0,0)[0]             : AIC=453.083, Time=0.16 sec\n",
      " ARIMA(4,2,1)(0,0,0)[0]             : AIC=453.070, Time=0.22 sec\n",
      " ARIMA(3,2,1)(0,0,0)[0]             : AIC=452.809, Time=0.10 sec\n",
      " ARIMA(5,2,1)(0,0,0)[0]             : AIC=inf, Time=0.47 sec\n",
      "\n",
      "Best model:  ARIMA(4,2,0)(0,0,0)[0]          \n",
      "Total fit time: 3.298 seconds\n"
     ]
    },
    {
     "data": {
      "text/html": [
       "<table class=\"simpletable\">\n",
       "<caption>SARIMAX Results</caption>\n",
       "<tr>\n",
       "  <th>Dep. Variable:</th>           <td>y</td>        <th>  No. Observations:  </th>    <td>52</td>   \n",
       "</tr>\n",
       "<tr>\n",
       "  <th>Model:</th>           <td>SARIMAX(4, 2, 0)</td> <th>  Log Likelihood     </th> <td>-220.638</td>\n",
       "</tr>\n",
       "<tr>\n",
       "  <th>Date:</th>            <td>Mon, 13 Dec 2021</td> <th>  AIC                </th>  <td>451.276</td>\n",
       "</tr>\n",
       "<tr>\n",
       "  <th>Time:</th>                <td>17:50:06</td>     <th>  BIC                </th>  <td>460.836</td>\n",
       "</tr>\n",
       "<tr>\n",
       "  <th>Sample:</th>                  <td>0</td>        <th>  HQIC               </th>  <td>454.917</td>\n",
       "</tr>\n",
       "<tr>\n",
       "  <th></th>                       <td> - 52</td>      <th>                     </th>     <td> </td>   \n",
       "</tr>\n",
       "<tr>\n",
       "  <th>Covariance Type:</th>        <td>opg</td>       <th>                     </th>     <td> </td>   \n",
       "</tr>\n",
       "</table>\n",
       "<table class=\"simpletable\">\n",
       "<tr>\n",
       "     <td></td>       <th>coef</th>     <th>std err</th>      <th>z</th>      <th>P>|z|</th>  <th>[0.025</th>    <th>0.975]</th>  \n",
       "</tr>\n",
       "<tr>\n",
       "  <th>ar.L1</th>  <td>   -0.9829</td> <td>    0.213</td> <td>   -4.620</td> <td> 0.000</td> <td>   -1.400</td> <td>   -0.566</td>\n",
       "</tr>\n",
       "<tr>\n",
       "  <th>ar.L2</th>  <td>   -0.9634</td> <td>    0.168</td> <td>   -5.750</td> <td> 0.000</td> <td>   -1.292</td> <td>   -0.635</td>\n",
       "</tr>\n",
       "<tr>\n",
       "  <th>ar.L3</th>  <td>   -0.8278</td> <td>    0.203</td> <td>   -4.071</td> <td> 0.000</td> <td>   -1.226</td> <td>   -0.429</td>\n",
       "</tr>\n",
       "<tr>\n",
       "  <th>ar.L4</th>  <td>   -0.4284</td> <td>    0.155</td> <td>   -2.759</td> <td> 0.006</td> <td>   -0.733</td> <td>   -0.124</td>\n",
       "</tr>\n",
       "<tr>\n",
       "  <th>sigma2</th> <td>  381.4847</td> <td>   47.246</td> <td>    8.074</td> <td> 0.000</td> <td>  288.883</td> <td>  474.086</td>\n",
       "</tr>\n",
       "</table>\n",
       "<table class=\"simpletable\">\n",
       "<tr>\n",
       "  <th>Ljung-Box (L1) (Q):</th>     <td>0.11</td>  <th>  Jarque-Bera (JB):  </th> <td>24.78</td>\n",
       "</tr>\n",
       "<tr>\n",
       "  <th>Prob(Q):</th>                <td>0.74</td>  <th>  Prob(JB):          </th> <td>0.00</td> \n",
       "</tr>\n",
       "<tr>\n",
       "  <th>Heteroskedasticity (H):</th> <td>12.93</td> <th>  Skew:              </th> <td>0.16</td> \n",
       "</tr>\n",
       "<tr>\n",
       "  <th>Prob(H) (two-sided):</th>    <td>0.00</td>  <th>  Kurtosis:          </th> <td>6.43</td> \n",
       "</tr>\n",
       "</table><br/><br/>Warnings:<br/>[1] Covariance matrix calculated using the outer product of gradients (complex-step)."
      ],
      "text/plain": [
       "<class 'statsmodels.iolib.summary.Summary'>\n",
       "\"\"\"\n",
       "                               SARIMAX Results                                \n",
       "==============================================================================\n",
       "Dep. Variable:                      y   No. Observations:                   52\n",
       "Model:               SARIMAX(4, 2, 0)   Log Likelihood                -220.638\n",
       "Date:                Mon, 13 Dec 2021   AIC                            451.276\n",
       "Time:                        17:50:06   BIC                            460.836\n",
       "Sample:                             0   HQIC                           454.917\n",
       "                                 - 52                                         \n",
       "Covariance Type:                  opg                                         \n",
       "==============================================================================\n",
       "                 coef    std err          z      P>|z|      [0.025      0.975]\n",
       "------------------------------------------------------------------------------\n",
       "ar.L1         -0.9829      0.213     -4.620      0.000      -1.400      -0.566\n",
       "ar.L2         -0.9634      0.168     -5.750      0.000      -1.292      -0.635\n",
       "ar.L3         -0.8278      0.203     -4.071      0.000      -1.226      -0.429\n",
       "ar.L4         -0.4284      0.155     -2.759      0.006      -0.733      -0.124\n",
       "sigma2       381.4847     47.246      8.074      0.000     288.883     474.086\n",
       "===================================================================================\n",
       "Ljung-Box (L1) (Q):                   0.11   Jarque-Bera (JB):                24.78\n",
       "Prob(Q):                              0.74   Prob(JB):                         0.00\n",
       "Heteroskedasticity (H):              12.93   Skew:                             0.16\n",
       "Prob(H) (two-sided):                  0.00   Kurtosis:                         6.43\n",
       "===================================================================================\n",
       "\n",
       "Warnings:\n",
       "[1] Covariance matrix calculated using the outer product of gradients (complex-step).\n",
       "\"\"\""
      ]
     },
     "execution_count": 12,
     "metadata": {},
     "output_type": "execute_result"
    }
   ],
   "source": [
    "arima_model = arimamodel(train['oil_energy_use'])\n",
    "arima_model.summary()"
   ]
  },
  {
   "cell_type": "code",
   "execution_count": 24,
   "id": "9ea81636",
   "metadata": {},
   "outputs": [
    {
     "name": "stdout",
     "output_type": "stream",
     "text": [
      "    year  oil_energy_use        ARIMA\n",
      "0   1960          250.00   836.486887\n",
      "1   1961          252.57   863.186191\n",
      "2   1962          259.76   892.874624\n",
      "3   1963          265.47   890.231167\n",
      "4   1964          267.09   876.910943\n",
      "5   1965          270.01   892.575272\n",
      "6   1966          273.54   915.520603\n",
      "7   1967          279.97   926.074616\n",
      "8   1968          284.39   922.373717\n",
      "9   1969          285.47   926.177959\n",
      "10  1970          290.28   943.477077\n",
      "11  1971          297.31   957.390179\n",
      "12  1972          301.46   961.524267\n",
      "13  1973          307.18   964.146001\n",
      "14  1974          310.42   974.697276\n",
      "15  1975          314.73   988.457239\n",
      "16  1976          320.93   996.865195\n",
      "17  1977          347.98  1001.526152\n",
      "18  1978          363.57  1008.973080\n",
      "19  1979          371.56  1020.347395\n",
      "20  1980          377.79  1030.571986\n",
      "21  1981          388.39  1037.441922\n",
      "22  1982          388.93  1044.272210\n",
      "23  1983          387.18  1053.642650\n",
      "24  1984          393.59  1063.824097\n",
      "25  1985          398.99  1072.231132\n",
      "26  1986          431.26  1079.515148\n",
      "27  1987          436.74  1087.852925\n",
      "28  1988          440.25  1097.358319\n",
      "29  1989          456.77  1106.390644\n",
      "30  1990          543.78  1114.371844\n",
      "31  1991          560.59  1122.423974\n",
      "32  1992          574.57  1131.310458\n",
      "33  1993          620.80  1140.381304\n",
      "34  1994          611.80  1148.858695\n",
      "35  1995          664.44  1157.020711\n",
      "36  1996          678.32  1165.554402\n",
      "37  1997          691.00  1174.438893\n",
      "38  1998          666.37  1183.135808\n",
      "39  1999          688.37  1191.506559\n",
      "40  2000          735.91  1199.928992\n",
      "41  2001          742.97  1208.619852\n",
      "42  2002          760.17  1217.347439\n",
      "43  2003          752.11  1225.877267\n",
      "44  2004          791.09  1234.321744\n",
      "45  2005          794.41  1242.895241\n",
      "46  2006          802.35  1251.572123\n",
      "47  2007          788.07  1260.178462\n",
      "48  2008          793.10  1268.684296\n",
      "49  2009          846.00  1277.216025\n",
      "50  2010          877.08  1285.833235\n",
      "51  2011          833.56  1294.454897\n"
     ]
    },
    {
     "name": "stderr",
     "output_type": "stream",
     "text": [
      "C:\\Users\\Adityas Regita P\\Anaconda3\\lib\\site-packages\\ipykernel_launcher.py:1: SettingWithCopyWarning: \n",
      "A value is trying to be set on a copy of a slice from a DataFrame.\n",
      "Try using .loc[row_indexer,col_indexer] = value instead\n",
      "\n",
      "See the caveats in the documentation: https://pandas.pydata.org/pandas-docs/stable/user_guide/indexing.html#returning-a-view-versus-a-copy\n",
      "  \"\"\"Entry point for launching an IPython kernel.\n"
     ]
    }
   ],
   "source": [
    "train['ARIMA'] = arima_model.predict(len(train))\n",
    "print(train)"
   ]
  },
  {
   "cell_type": "code",
   "execution_count": 26,
   "id": "69bb7439",
   "metadata": {
    "scrolled": false
   },
   "outputs": [
    {
     "data": {
      "text/plain": [
       "<function matplotlib.pyplot.show(close=None, block=None)>"
      ]
     },
     "execution_count": 26,
     "metadata": {},
     "output_type": "execute_result"
    },
    {
     "data": {
      "image/png": "[encoded data removed]",
      "text/plain": [
       "<Figure size 720x576 with 1 Axes>"
      ]
     },
     "metadata": {
      "needs_background": "light"
     },
     "output_type": "display_data"
    }
   ],
   "source": [
    "train_x = train['year']\n",
    "train_y = train['oil_energy_use']\n",
    "train_pred_x = train['year']\n",
    "train_pred_y = train['ARIMA']\n",
    "\n",
    "plt.figure(figsize = (10, 8))\n",
    "plt.plot(train_x, train_y, 'blue',\n",
    "         train_pred_x, train_pred_y, 'red')\n",
    "plt.legend(['Train', 'Prediction'])\n",
    "plt.show"
   ]
  },
  {
   "cell_type": "code",
   "execution_count": 13,
   "id": "088d5710",
   "metadata": {},
   "outputs": [
    {
     "name": "stdout",
     "output_type": "stream",
     "text": [
      "    year  oil_energy_use       ARIMA\n",
      "51  2011          833.56  836.486887\n",
      "52  2012          853.21  863.186191\n",
      "53  2013          863.82  892.874624\n",
      "54  2014          883.77  890.231167\n",
      "55  2015          900.86  876.910943\n",
      "56  2016          903.97  892.575272\n",
      "57  2017          917.69  915.520603\n",
      "58  2018          936.89  926.074616\n",
      "59  2019          940.04  922.373717\n",
      "60  2020          967.33  926.177959\n"
     ]
    },
    {
     "name": "stderr",
     "output_type": "stream",
     "text": [
      "C:\\Users\\Adityas Regita P\\Anaconda3\\lib\\site-packages\\ipykernel_launcher.py:1: SettingWithCopyWarning: \n",
      "A value is trying to be set on a copy of a slice from a DataFrame.\n",
      "Try using .loc[row_indexer,col_indexer] = value instead\n",
      "\n",
      "See the caveats in the documentation: https://pandas.pydata.org/pandas-docs/stable/user_guide/indexing.html#returning-a-view-versus-a-copy\n",
      "  \"\"\"Entry point for launching an IPython kernel.\n"
     ]
    }
   ],
   "source": [
    "test['ARIMA'] = arima_model.predict(len(test))\n",
    "print(test)"
   ]
  },
  {
   "cell_type": "code",
   "execution_count": 19,
   "id": "83ba4194",
   "metadata": {},
   "outputs": [
    {
     "data": {
      "text/plain": [
       "<function matplotlib.pyplot.show(close=None, block=None)>"
      ]
     },
     "execution_count": 19,
     "metadata": {},
     "output_type": "execute_result"
    },
    {
     "data": {
      "image/png": "[encoded data removed]",
      "text/plain": [
       "<Figure size 720x576 with 1 Axes>"
      ]
     },
     "metadata": {
      "needs_background": "light"
     },
     "output_type": "display_data"
    }
   ],
   "source": [
    "test_x = test['year']\n",
    "test_y = test['oil_energy_use']\n",
    "test_pred_x = test['year']\n",
    "test_pred_y = test['ARIMA']\n",
    "\n",
    "plt.figure(figsize = (10, 8))\n",
    "plt.plot(test_x, test_y, 'green',\n",
    "         test_pred_x, test_pred_y, 'orange')\n",
    "plt.legend(['Test', 'Prediction'])\n",
    "plt.show"
   ]
  },
  {
   "cell_type": "code",
   "execution_count": 15,
   "id": "0d0646bc",
   "metadata": {},
   "outputs": [],
   "source": [
    "def mape(y_true, y_pred): \n",
    "    y_true, y_pred = np.array(y_true), np.array(y_pred)\n",
    "    return np.mean(np.abs((y_true - y_pred) / y_true)) * 100"
   ]
  },
  {
   "cell_type": "code",
   "execution_count": 16,
   "id": "0dd73d11",
   "metadata": {},
   "outputs": [],
   "source": [
    "def rmse(y_true, y_pred):\n",
    "    y_true, y_pred = np.array(y_true), np.array(y_pred)\n",
    "    mse = mean_squared_error(y_true, y_pred)\n",
    "    rmse = math.sqrt(mse)\n",
    "    \n",
    "    return rmse"
   ]
  },
  {
   "cell_type": "code",
   "execution_count": 28,
   "id": "13e9801c",
   "metadata": {},
   "outputs": [
    {
     "name": "stdout",
     "output_type": "stream",
     "text": [
      "MAPE of Test Data:  144.7625415619486\n",
      "RMSE of Test Data:  585.1597643925651\n"
     ]
    }
   ],
   "source": [
    "train_mape = mape(train.oil_energy_use, train.ARIMA)\n",
    "train_rmse = rmse(train.oil_energy_use, train.ARIMA)\n",
    "print('MAPE of Test Data: ', train_mape)\n",
    "print('RMSE of Test Data: ', train_rmse)"
   ]
  },
  {
   "cell_type": "code",
   "execution_count": 17,
   "id": "9cf93cdc",
   "metadata": {},
   "outputs": [
    {
     "name": "stdout",
     "output_type": "stream",
     "text": [
      "MAPE of Test Data:  1.7058257365002458\n",
      "RMSE of Test Data:  19.556770958458124\n"
     ]
    }
   ],
   "source": [
    "test_mape = mape(test.oil_energy_use, test.ARIMA)\n",
    "test_rmse = rmse(test.oil_energy_use, test.ARIMA)\n",
    "print('MAPE of Test Data: ', test_mape)\n",
    "print('RMSE of Test Data: ', test_rmse)"
   ]
  }
 ],
 "metadata": {
  "kernelspec": {
   "display_name": "Python 3 (ipykernel)",
   "language": "python",
   "name": "python3"
  },
  "language_info": {
   "codemirror_mode": {
    "name": "ipython",
    "version": 3
   },
   "file_extension": ".py",
   "mimetype": "text/x-python",
   "name": "python",
   "nbconvert_exporter": "python",
   "pygments_lexer": "ipython3",
   "version": "3.7.9"
  }
 },
 "nbformat": 4,
 "nbformat_minor": 5
}
