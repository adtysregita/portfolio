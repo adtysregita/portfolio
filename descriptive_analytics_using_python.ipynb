{
 "cells": [
  {
   "cell_type": "code",
   "execution_count": 1,
   "id": "3a3a6a56",
   "metadata": {},
   "outputs": [],
   "source": [
    "# Analyzing the Data"
   ]
  },
  {
   "cell_type": "code",
   "execution_count": 2,
   "id": "36ef9636",
   "metadata": {},
   "outputs": [],
   "source": [
    "import pandas as pd\n",
    "import matplotlib.pyplot as plt\n",
    "import matplotlib\n",
    "from scipy import stats\n",
    "\n",
    "matplotlib.use('qt5agg')\n",
    "\n",
    "%matplotlib inline"
   ]
  },
  {
   "cell_type": "code",
   "execution_count": 3,
   "id": "9f104281",
   "metadata": {},
   "outputs": [
    {
     "data": {
      "text/html": [
       "<div>\n",
       "<style scoped>\n",
       "    .dataframe tbody tr th:only-of-type {\n",
       "        vertical-align: middle;\n",
       "    }\n",
       "\n",
       "    .dataframe tbody tr th {\n",
       "        vertical-align: top;\n",
       "    }\n",
       "\n",
       "    .dataframe thead th {\n",
       "        text-align: right;\n",
       "    }\n",
       "</style>\n",
       "<table border=\"1\" class=\"dataframe\">\n",
       "  <thead>\n",
       "    <tr style=\"text-align: right;\">\n",
       "      <th></th>\n",
       "      <th>weight</th>\n",
       "    </tr>\n",
       "  </thead>\n",
       "  <tbody>\n",
       "    <tr>\n",
       "      <th>0</th>\n",
       "      <td>20.440</td>\n",
       "    </tr>\n",
       "    <tr>\n",
       "      <th>1</th>\n",
       "      <td>20.244</td>\n",
       "    </tr>\n",
       "    <tr>\n",
       "      <th>2</th>\n",
       "      <td>20.549</td>\n",
       "    </tr>\n",
       "    <tr>\n",
       "      <th>3</th>\n",
       "      <td>20.755</td>\n",
       "    </tr>\n",
       "    <tr>\n",
       "      <th>4</th>\n",
       "      <td>20.740</td>\n",
       "    </tr>\n",
       "    <tr>\n",
       "      <th>...</th>\n",
       "      <td>...</td>\n",
       "    </tr>\n",
       "    <tr>\n",
       "      <th>9995</th>\n",
       "      <td>20.419</td>\n",
       "    </tr>\n",
       "    <tr>\n",
       "      <th>9996</th>\n",
       "      <td>20.554</td>\n",
       "    </tr>\n",
       "    <tr>\n",
       "      <th>9997</th>\n",
       "      <td>20.768</td>\n",
       "    </tr>\n",
       "    <tr>\n",
       "      <th>9998</th>\n",
       "      <td>20.829</td>\n",
       "    </tr>\n",
       "    <tr>\n",
       "      <th>9999</th>\n",
       "      <td>20.667</td>\n",
       "    </tr>\n",
       "  </tbody>\n",
       "</table>\n",
       "<p>10000 rows × 1 columns</p>\n",
       "</div>"
      ],
      "text/plain": [
       "      weight\n",
       "0     20.440\n",
       "1     20.244\n",
       "2     20.549\n",
       "3     20.755\n",
       "4     20.740\n",
       "...      ...\n",
       "9995  20.419\n",
       "9996  20.554\n",
       "9997  20.768\n",
       "9998  20.829\n",
       "9999  20.667\n",
       "\n",
       "[10000 rows x 1 columns]"
      ]
     },
     "execution_count": 3,
     "metadata": {},
     "output_type": "execute_result"
    }
   ],
   "source": [
    "data = pd.read_csv(r'C:/Users/Adityas Regita P/Netacad Ch.3/Data/rpi_describe.csv')\n",
    "data"
   ]
  },
  {
   "cell_type": "code",
   "execution_count": 4,
   "id": "bc41930c",
   "metadata": {},
   "outputs": [
    {
     "data": {
      "text/html": [
       "<div>\n",
       "<style scoped>\n",
       "    .dataframe tbody tr th:only-of-type {\n",
       "        vertical-align: middle;\n",
       "    }\n",
       "\n",
       "    .dataframe tbody tr th {\n",
       "        vertical-align: top;\n",
       "    }\n",
       "\n",
       "    .dataframe thead th {\n",
       "        text-align: right;\n",
       "    }\n",
       "</style>\n",
       "<table border=\"1\" class=\"dataframe\">\n",
       "  <thead>\n",
       "    <tr style=\"text-align: right;\">\n",
       "      <th></th>\n",
       "      <th>weight</th>\n",
       "    </tr>\n",
       "  </thead>\n",
       "  <tbody>\n",
       "    <tr>\n",
       "      <th>count</th>\n",
       "      <td>10000.000000</td>\n",
       "    </tr>\n",
       "    <tr>\n",
       "      <th>mean</th>\n",
       "      <td>20.499212</td>\n",
       "    </tr>\n",
       "    <tr>\n",
       "      <th>std</th>\n",
       "      <td>0.199874</td>\n",
       "    </tr>\n",
       "    <tr>\n",
       "      <th>min</th>\n",
       "      <td>19.752000</td>\n",
       "    </tr>\n",
       "    <tr>\n",
       "      <th>25%</th>\n",
       "      <td>20.365000</td>\n",
       "    </tr>\n",
       "    <tr>\n",
       "      <th>50%</th>\n",
       "      <td>20.500000</td>\n",
       "    </tr>\n",
       "    <tr>\n",
       "      <th>75%</th>\n",
       "      <td>20.635000</td>\n",
       "    </tr>\n",
       "    <tr>\n",
       "      <th>max</th>\n",
       "      <td>21.171000</td>\n",
       "    </tr>\n",
       "  </tbody>\n",
       "</table>\n",
       "</div>"
      ],
      "text/plain": [
       "             weight\n",
       "count  10000.000000\n",
       "mean      20.499212\n",
       "std        0.199874\n",
       "min       19.752000\n",
       "25%       20.365000\n",
       "50%       20.500000\n",
       "75%       20.635000\n",
       "max       21.171000"
      ]
     },
     "execution_count": 4,
     "metadata": {},
     "output_type": "execute_result"
    }
   ],
   "source": [
    "data.describe()"
   ]
  },
  {
   "cell_type": "code",
   "execution_count": 5,
   "id": "a7fa8e45",
   "metadata": {},
   "outputs": [
    {
     "data": {
      "text/html": [
       "<div>\n",
       "<style scoped>\n",
       "    .dataframe tbody tr th:only-of-type {\n",
       "        vertical-align: middle;\n",
       "    }\n",
       "\n",
       "    .dataframe tbody tr th {\n",
       "        vertical-align: top;\n",
       "    }\n",
       "\n",
       "    .dataframe thead th {\n",
       "        text-align: right;\n",
       "    }\n",
       "</style>\n",
       "<table border=\"1\" class=\"dataframe\">\n",
       "  <thead>\n",
       "    <tr style=\"text-align: right;\">\n",
       "      <th></th>\n",
       "      <th>weight</th>\n",
       "      <th>rounded</th>\n",
       "      <th>diff</th>\n",
       "    </tr>\n",
       "  </thead>\n",
       "  <tbody>\n",
       "    <tr>\n",
       "      <th>0</th>\n",
       "      <td>20.440</td>\n",
       "      <td>20.44</td>\n",
       "      <td>0.44</td>\n",
       "    </tr>\n",
       "    <tr>\n",
       "      <th>1</th>\n",
       "      <td>20.244</td>\n",
       "      <td>20.24</td>\n",
       "      <td>0.24</td>\n",
       "    </tr>\n",
       "    <tr>\n",
       "      <th>2</th>\n",
       "      <td>20.549</td>\n",
       "      <td>20.55</td>\n",
       "      <td>0.55</td>\n",
       "    </tr>\n",
       "    <tr>\n",
       "      <th>3</th>\n",
       "      <td>20.755</td>\n",
       "      <td>20.76</td>\n",
       "      <td>0.76</td>\n",
       "    </tr>\n",
       "    <tr>\n",
       "      <th>4</th>\n",
       "      <td>20.740</td>\n",
       "      <td>20.74</td>\n",
       "      <td>0.74</td>\n",
       "    </tr>\n",
       "    <tr>\n",
       "      <th>...</th>\n",
       "      <td>...</td>\n",
       "      <td>...</td>\n",
       "      <td>...</td>\n",
       "    </tr>\n",
       "    <tr>\n",
       "      <th>9995</th>\n",
       "      <td>20.419</td>\n",
       "      <td>20.42</td>\n",
       "      <td>0.42</td>\n",
       "    </tr>\n",
       "    <tr>\n",
       "      <th>9996</th>\n",
       "      <td>20.554</td>\n",
       "      <td>20.55</td>\n",
       "      <td>0.55</td>\n",
       "    </tr>\n",
       "    <tr>\n",
       "      <th>9997</th>\n",
       "      <td>20.768</td>\n",
       "      <td>20.77</td>\n",
       "      <td>0.77</td>\n",
       "    </tr>\n",
       "    <tr>\n",
       "      <th>9998</th>\n",
       "      <td>20.829</td>\n",
       "      <td>20.83</td>\n",
       "      <td>0.83</td>\n",
       "    </tr>\n",
       "    <tr>\n",
       "      <th>9999</th>\n",
       "      <td>20.667</td>\n",
       "      <td>20.67</td>\n",
       "      <td>0.67</td>\n",
       "    </tr>\n",
       "  </tbody>\n",
       "</table>\n",
       "<p>10000 rows × 3 columns</p>\n",
       "</div>"
      ],
      "text/plain": [
       "      weight  rounded  diff\n",
       "0     20.440    20.44  0.44\n",
       "1     20.244    20.24  0.24\n",
       "2     20.549    20.55  0.55\n",
       "3     20.755    20.76  0.76\n",
       "4     20.740    20.74  0.74\n",
       "...      ...      ...   ...\n",
       "9995  20.419    20.42  0.42\n",
       "9996  20.554    20.55  0.55\n",
       "9997  20.768    20.77  0.77\n",
       "9998  20.829    20.83  0.83\n",
       "9999  20.667    20.67  0.67\n",
       "\n",
       "[10000 rows x 3 columns]"
      ]
     },
     "execution_count": 5,
     "metadata": {},
     "output_type": "execute_result"
    }
   ],
   "source": [
    "data['rounded'] = data['weight'].round(2)\n",
    "data['diff'] = data['rounded'] - 20\n",
    "data"
   ]
  },
  {
   "cell_type": "code",
   "execution_count": 8,
   "id": "ad291f76",
   "metadata": {},
   "outputs": [
    {
     "name": "stdout",
     "output_type": "stream",
     "text": [
      "Jumlah data yang ada: \n",
      " 10000\n",
      "\n",
      "Nilai rata-rata: \n",
      " 20.49915999999995\n",
      "\n",
      "Nilai tengah: \n",
      " 20.5\n",
      "\n",
      "Standar deviasi: \n",
      " 0.19990740530822973\n",
      "\n",
      "Range data: \n",
      " 1.4200000000000017\n",
      "\n",
      "Data terkecil: \n",
      " 19.75\n",
      "\n",
      "Data terbesar: \n",
      " 21.17\n"
     ]
    }
   ],
   "source": [
    "# Descriptive Statistics\n",
    "count = data['rounded'].count()\n",
    "print('Jumlah data yang ada: \\n', count)\n",
    "\n",
    "mean = data['rounded'].mean()\n",
    "print('\\nNilai rata-rata: \\n', mean)\n",
    "\n",
    "median = data['rounded'].median()\n",
    "print('\\nNilai tengah: \\n', median)\n",
    "\n",
    "std = data['rounded'].std()\n",
    "print('\\nStandar deviasi: \\n', std)\n",
    "\n",
    "rng = data['rounded'].max() - data['rounded'].min()\n",
    "print('\\nRange data: \\n', rng)\n",
    "\n",
    "min = data['rounded'].min()\n",
    "print('\\nData terkecil: \\n', min)\n",
    "\n",
    "max = data['rounded'].max()\n",
    "print('\\nData terbesar: \\n', max)"
   ]
  },
  {
   "cell_type": "code",
   "execution_count": 11,
   "id": "f355b6d4",
   "metadata": {},
   "outputs": [
    {
     "name": "stdout",
     "output_type": "stream",
     "text": [
      "Jumlah data yang terdapat pada distribusi dataset \"rpi_describe\" adalah 10000 data.\n",
      "\n",
      "\n",
      "Nilai rata-rata dari distribusi dataset adalah 20.50.\n",
      "\n",
      "\n",
      "Nilai tengah dari distribusi dataset adalah 20.50.\n",
      "\n",
      "\n",
      "Nilai standar deviasi dari distribusi dataset adalah 0.20.\n",
      "\n",
      "\n",
      "Range data dari distribusi dataset adalah 1.42.\n",
      "\n",
      "\n",
      "Data terkecil dari distribusi dataset adalah 19.75.\n",
      "\n",
      "\n",
      "Data terbesar dari distribusi dataset adalah 21.17.\n",
      "\n"
     ]
    }
   ],
   "source": [
    "# Descriptive Analysis\n",
    "countstring = 'Jumlah data yang terdapat pada distribusi dataset \"rpi_describe\" adalah {:} data.\\n'.format(count)\n",
    "print(countstring)\n",
    "\n",
    "meanstring = '\\nNilai rata-rata dari distribusi dataset adalah {:.2f}.\\n'.format(mean)\n",
    "print(meanstring)\n",
    "\n",
    "medstring = '\\nNilai tengah dari distribusi dataset adalah {:.2f}.\\n'.format(median)\n",
    "print(medstring)\n",
    "\n",
    "stdstring = '\\nNilai standar deviasi dari distribusi dataset adalah {:.2f}.\\n'.format(std)\n",
    "print(stdstring)\n",
    "\n",
    "rngstring = '\\nRange data dari distribusi dataset adalah {:.2f}.\\n'.format(rng)\n",
    "print(rngstring)\n",
    "\n",
    "minstring = '\\nData terkecil dari distribusi dataset adalah {:.2f}.\\n'.format(min)\n",
    "print(minstring)\n",
    "\n",
    "maxstring = '\\nData terbesar dari distribusi dataset adalah {:.2f}.\\n'.format(max)\n",
    "print(maxstring)"
   ]
  },
  {
   "cell_type": "code",
   "execution_count": 12,
   "id": "538ea775",
   "metadata": {},
   "outputs": [],
   "source": [
    "# Visualizing the Data"
   ]
  },
  {
   "cell_type": "code",
   "execution_count": 13,
   "id": "bd3475da",
   "metadata": {},
   "outputs": [
    {
     "data": {
      "text/plain": [
       "pandas.core.series.Series"
      ]
     },
     "execution_count": 13,
     "metadata": {},
     "output_type": "execute_result"
    }
   ],
   "source": [
    "freq = data['rounded'].value_counts()\n",
    "type(freq)"
   ]
  },
  {
   "cell_type": "code",
   "execution_count": 14,
   "id": "b88148bc",
   "metadata": {},
   "outputs": [
    {
     "data": {
      "text/plain": [
       "pandas.core.frame.DataFrame"
      ]
     },
     "execution_count": 14,
     "metadata": {},
     "output_type": "execute_result"
    }
   ],
   "source": [
    "new = freq.to_frame().reset_index()\n",
    "type(new)"
   ]
  },
  {
   "cell_type": "code",
   "execution_count": 15,
   "id": "6ef03ce9",
   "metadata": {},
   "outputs": [
    {
     "name": "stdout",
     "output_type": "stream",
     "text": [
      "     index  rounded\n",
      "0    20.48      228\n",
      "1    20.50      226\n",
      "2    20.43      218\n",
      "3    20.46      213\n",
      "4    20.45      210\n",
      "..     ...      ...\n",
      "130  19.88        1\n",
      "131  19.89        1\n",
      "132  19.77        1\n",
      "133  19.93        1\n",
      "134  19.83        1\n",
      "\n",
      "[135 rows x 2 columns]\n"
     ]
    }
   ],
   "source": [
    "print(new)"
   ]
  },
  {
   "cell_type": "code",
   "execution_count": 16,
   "id": "c8296c31",
   "metadata": {},
   "outputs": [
    {
     "name": "stdout",
     "output_type": "stream",
     "text": [
      "     value  freq\n",
      "0    20.48   228\n",
      "1    20.50   226\n",
      "2    20.43   218\n",
      "3    20.46   213\n",
      "4    20.45   210\n",
      "..     ...   ...\n",
      "130  19.88     1\n",
      "131  19.89     1\n",
      "132  19.77     1\n",
      "133  19.93     1\n",
      "134  19.83     1\n",
      "\n",
      "[135 rows x 2 columns]\n"
     ]
    }
   ],
   "source": [
    "new.columns = ['value', 'freq']\n",
    "print(new)"
   ]
  },
  {
   "cell_type": "code",
   "execution_count": 17,
   "id": "c91e5fe4",
   "metadata": {},
   "outputs": [
    {
     "data": {
      "text/plain": [
       "[<matplotlib.lines.Line2D at 0x1d22aaeb308>]"
      ]
     },
     "execution_count": 17,
     "metadata": {},
     "output_type": "execute_result"
    },
    {
     "data": {
      "image/png": "[encoded data removed]",
      "text/plain": [
       "<Figure size 1440x720 with 1 Axes>"
      ]
     },
     "metadata": {
      "needs_background": "light"
     },
     "output_type": "display_data"
    }
   ],
   "source": [
    "# Set a size for the graph\n",
    "plt.figure(figsize = (20,10))\n",
    "\n",
    "# Add axis labels\n",
    "plt.ylabel('Frequency')\n",
    "plt.xlabel('Weight')\n",
    "\n",
    "# Plot the graph using a round symbol \"o\" of size 10\n",
    "plt.plot(new.value,new.freq, \"*\", markersize = 15, color = 'blue')"
   ]
  },
  {
   "cell_type": "raw",
   "id": "1d2d7f8b",
   "metadata": {},
   "source": [
    "From the graphic plot above, we can see the frequency distribution of each unique value in the dataset. This graph plot of the values centered around the value of 20.5, resembles the Gaussian distribution. This means that during any measurement values will follow a normal distribution with an equal number of measurements above and below the mean value. We can see from the descriptive analytics that the mean and median are 20.50."
   ]
  },
  {
   "cell_type": "code",
   "execution_count": 19,
   "id": "67bfbf9f",
   "metadata": {},
   "outputs": [
    {
     "data": {
      "text/plain": [
       "ModeResult(mode=array([20.48]), count=array([228]))"
      ]
     },
     "execution_count": 19,
     "metadata": {},
     "output_type": "execute_result"
    }
   ],
   "source": [
    "mode = stats.mode(data['rounded'])\n",
    "mode"
   ]
  },
  {
   "cell_type": "raw",
   "id": "1a0d4680",
   "metadata": {},
   "source": [
    "From the code above, we can see that the most often data that appears in the dataset is 20.48 for 228 times. It proves that the descriptive and visual analytics give the same result."
   ]
  }
 ],
 "metadata": {
  "kernelspec": {
   "display_name": "Python 3 (ipykernel)",
   "language": "python",
   "name": "python3"
  },
  "language_info": {
   "codemirror_mode": {
    "name": "ipython",
    "version": 3
   },
   "file_extension": ".py",
   "mimetype": "text/x-python",
   "name": "python",
   "nbconvert_exporter": "python",
   "pygments_lexer": "ipython3",
   "version": "3.7.9"
  }
 },
 "nbformat": 4,
 "nbformat_minor": 5
}
